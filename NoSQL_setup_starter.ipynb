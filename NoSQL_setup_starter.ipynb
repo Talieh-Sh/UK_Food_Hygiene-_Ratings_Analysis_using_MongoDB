{
 "cells": [
  {
   "cell_type": "markdown",
   "id": "9a57c4c6",
   "metadata": {},
   "source": [
    "# Eat Safe, Love"
   ]
  },
  {
   "cell_type": "markdown",
   "id": "064ef857",
   "metadata": {},
   "source": [
    "## Part 1: Database and Jupyter Notebook Set Up"
   ]
  },
  {
   "cell_type": "markdown",
   "id": "664e3c1f",
   "metadata": {},
   "source": [
    "Import the data provided in the `establishments.json` file from your Terminal. Name the database `uk_food` and the collection `establishments`.\n",
    "\n",
    "Within this markdown cell, copy the line of text you used to import the data from your Terminal. This way, future analysts will be able to repeat your process.\n",
    "\n",
    "e.g.: Import the dataset with `mongoimport --type json -d uk_food -c establishments --drop --jsonArray establishments.json`"
   ]
  },
  {
   "cell_type": "code",
   "execution_count": 1,
   "id": "3ecdd008",
   "metadata": {},
   "outputs": [],
   "source": [
    "# Import dependencies\n",
    "from pymongo import MongoClient\n",
    "from pprint import pprint"
   ]
  },
  {
   "cell_type": "code",
   "execution_count": 2,
   "id": "59390c4a",
   "metadata": {},
   "outputs": [],
   "source": [
    "# Create an instance of MongoClient\n",
    "mongo = MongoClient(port=27017)"
   ]
  },
  {
   "cell_type": "code",
   "execution_count": 3,
   "id": "7f9ececa",
   "metadata": {},
   "outputs": [
    {
     "data": {
      "text/plain": [
       "['admin',\n",
       " 'autosaurus',\n",
       " 'classDB',\n",
       " 'config',\n",
       " 'epa',\n",
       " 'local',\n",
       " 'met',\n",
       " 'petsitly_marketing',\n",
       " 'school',\n",
       " 'travel_db',\n",
       " 'uk_food']"
      ]
     },
     "execution_count": 3,
     "metadata": {},
     "output_type": "execute_result"
    }
   ],
   "source": [
    "# confirm that our new database was created\n",
    "mongo.list_database_names()"
   ]
  },
  {
   "cell_type": "code",
   "execution_count": 4,
   "id": "71e373c1",
   "metadata": {},
   "outputs": [],
   "source": [
    "# assign the uk_food database to a variable name\n",
    "db = mongo['uk_food']"
   ]
  },
  {
   "cell_type": "code",
   "execution_count": 5,
   "id": "ef1b89ed",
   "metadata": {},
   "outputs": [
    {
     "data": {
      "text/plain": [
       "['establishments']"
      ]
     },
     "execution_count": 5,
     "metadata": {},
     "output_type": "execute_result"
    }
   ],
   "source": [
    "# review the collections in our new database\n",
    "db.list_collection_names()"
   ]
  },
  {
   "cell_type": "code",
   "execution_count": 6,
   "id": "6a0d92df",
   "metadata": {},
   "outputs": [
    {
     "name": "stdout",
     "output_type": "stream",
     "text": [
      "{'AddressLine1': '1 The Droveway',\n",
      " 'AddressLine2': 'St Margarets Bay',\n",
      " 'AddressLine3': 'Kent',\n",
      " 'AddressLine4': '',\n",
      " 'BusinessName': 'FirstLight Bar & Café',\n",
      " 'BusinessType': 'Restaurant/Cafe/Canteen',\n",
      " 'BusinessTypeID': 1,\n",
      " 'ChangesByServerID': 0,\n",
      " 'Distance': 4587.64041272672,\n",
      " 'FHRSID': 1290215,\n",
      " 'LocalAuthorityBusinessID': 'PI/000083029',\n",
      " 'LocalAuthorityCode': '182',\n",
      " 'LocalAuthorityEmailAddress': 'publicprotection@dover.gov.uk',\n",
      " 'LocalAuthorityName': 'Dover',\n",
      " 'LocalAuthorityWebSite': 'http://www.dover.gov.uk/',\n",
      " 'NewRatingPending': False,\n",
      " 'Phone': '',\n",
      " 'PostCode': 'CT15 6DH',\n",
      " 'RatingDate': '2020-11-09T00:00:00',\n",
      " 'RatingKey': 'fhrs_5_en-gb',\n",
      " 'RatingValue': '5',\n",
      " 'RightToReply': '',\n",
      " 'SchemeType': 'FHRS',\n",
      " '_id': ObjectId('65680765e712f8aff2ec9435'),\n",
      " 'geocode': {'latitude': '51.150625', 'longitude': '1.378231'},\n",
      " 'links': [{'href': 'https://api.ratings.food.gov.uk/establishments/1290215',\n",
      "            'rel': 'self'}],\n",
      " 'meta': {'dataSource': None,\n",
      "          'extractDate': '0001-01-01T00:00:00',\n",
      "          'itemCount': 0,\n",
      "          'pageNumber': 0,\n",
      "          'pageSize': 0,\n",
      "          'returncode': None,\n",
      "          'totalCount': 0,\n",
      "          'totalPages': 0},\n",
      " 'scores': {'ConfidenceInManagement': 5, 'Hygiene': 5, 'Structural': 5}}\n"
     ]
    }
   ],
   "source": [
    "# review a document in the establishments collection\n",
    "pprint(db.establishments.find_one())"
   ]
  },
  {
   "cell_type": "code",
   "execution_count": 7,
   "id": "11c9f11b",
   "metadata": {},
   "outputs": [],
   "source": [
    "# assign the collection to a variable\n",
    "establishments = db['establishments']"
   ]
  },
  {
   "cell_type": "markdown",
   "id": "d5671434",
   "metadata": {},
   "source": [
    "## Part 2: Update the Database"
   ]
  },
  {
   "cell_type": "markdown",
   "id": "314bd884",
   "metadata": {},
   "source": [
    "1. An exciting new halal restaurant just opened in Greenwich, but hasn't been rated yet. The magazine has asked you to include it in your analysis. Add the following restaurant \"Penang Flavours\" to the database."
   ]
  },
  {
   "cell_type": "code",
   "execution_count": 8,
   "id": "12804740",
   "metadata": {},
   "outputs": [
    {
     "data": {
      "text/plain": [
       "<pymongo.results.DeleteResult at 0x7fbd607774b0>"
      ]
     },
     "execution_count": 8,
     "metadata": {},
     "output_type": "execute_result"
    }
   ],
   "source": [
    "# Delete \"Penang Flavours\" if we already added it before.\n",
    "db.establishments.delete_many({'BusinessName': 'Penang Flavours'})"
   ]
  },
  {
   "cell_type": "code",
   "execution_count": 9,
   "id": "c2da7648",
   "metadata": {},
   "outputs": [],
   "source": [
    "# Create a dictionary for the new restaurant data\n",
    "new_restaurant={\"BusinessName\":\"Penang Flavours\",\n",
    "    \"BusinessType\":\"Restaurant/Cafe/Canteen\",\n",
    "    \"BusinessTypeID\":\"\",\n",
    "    \"AddressLine1\":\"Penang Flavours\",\n",
    "    \"AddressLine2\":\"146A Plumstead Rd\",\n",
    "    \"AddressLine3\":\"London\",\n",
    "    \"AddressLine4\":\"\",\n",
    "    \"PostCode\":\"SE18 7DY\",\n",
    "    \"Phone\":\"\",\n",
    "    \"LocalAuthorityCode\":\"511\",\n",
    "    \"LocalAuthorityName\":\"Greenwich\",\n",
    "    \"LocalAuthorityWebSite\":\"http://www.royalgreenwich.gov.uk\",\n",
    "    \"LocalAuthorityEmailAddress\":\"health@royalgreenwich.gov.uk\",\n",
    "    \"scores\":{\n",
    "        \"Hygiene\":\"\",\n",
    "        \"Structural\":\"\",\n",
    "        \"ConfidenceInManagement\":\"\"\n",
    "    },\n",
    "    \"SchemeType\":\"FHRS\",\n",
    "    \"geocode\":{\n",
    "        \"longitude\":\"0.08384000\",\n",
    "        \"latitude\":\"51.49014200\"\n",
    "    },\n",
    "    \"RightToReply\":\"\",\n",
    "    \"Distance\":4623.9723280747176,\n",
    "    \"NewRatingPending\":True}"
   ]
  },
  {
   "cell_type": "code",
   "execution_count": 10,
   "id": "a6e5cece",
   "metadata": {},
   "outputs": [
    {
     "data": {
      "text/plain": [
       "<pymongo.results.InsertOneResult at 0x7fbd6079ad70>"
      ]
     },
     "execution_count": 10,
     "metadata": {},
     "output_type": "execute_result"
    }
   ],
   "source": [
    "# Insert the new restaurant into the collection\n",
    "establishments.insert_one(new_restaurant)"
   ]
  },
  {
   "cell_type": "code",
   "execution_count": 11,
   "id": "63bb10f9",
   "metadata": {},
   "outputs": [
    {
     "name": "stdout",
     "output_type": "stream",
     "text": [
      "{'AddressLine1': 'Penang Flavours',\n",
      " 'AddressLine2': '146A Plumstead Rd',\n",
      " 'AddressLine3': 'London',\n",
      " 'AddressLine4': '',\n",
      " 'BusinessName': 'Penang Flavours',\n",
      " 'BusinessType': 'Restaurant/Cafe/Canteen',\n",
      " 'BusinessTypeID': '',\n",
      " 'Distance': 4623.972328074718,\n",
      " 'LocalAuthorityCode': '511',\n",
      " 'LocalAuthorityEmailAddress': 'health@royalgreenwich.gov.uk',\n",
      " 'LocalAuthorityName': 'Greenwich',\n",
      " 'LocalAuthorityWebSite': 'http://www.royalgreenwich.gov.uk',\n",
      " 'NewRatingPending': True,\n",
      " 'Phone': '',\n",
      " 'PostCode': 'SE18 7DY',\n",
      " 'RightToReply': '',\n",
      " 'SchemeType': 'FHRS',\n",
      " '_id': ObjectId('6568077d05af41be3d7d12f8'),\n",
      " 'geocode': {'latitude': '51.49014200', 'longitude': '0.08384000'},\n",
      " 'scores': {'ConfidenceInManagement': '', 'Hygiene': '', 'Structural': ''}}\n"
     ]
    }
   ],
   "source": [
    "# Check that the new restaurant was inserted\n",
    "find_restaurant=establishments.find({'BusinessName': 'Penang Flavours'})\n",
    "for res in find_restaurant:\n",
    "    pprint(res)"
   ]
  },
  {
   "cell_type": "markdown",
   "id": "0ef4395a",
   "metadata": {},
   "source": [
    "2. Find the BusinessTypeID for \"Restaurant/Cafe/Canteen\" and return only the `BusinessTypeID` and `BusinessType` fields."
   ]
  },
  {
   "cell_type": "code",
   "execution_count": 12,
   "id": "93c63829",
   "metadata": {},
   "outputs": [
    {
     "name": "stdout",
     "output_type": "stream",
     "text": [
      "{'BusinessType': 'Restaurant/Cafe/Canteen', 'BusinessTypeID': 1}\n"
     ]
    }
   ],
   "source": [
    "# Find the BusinessTypeID for \"Restaurant/Cafe/Canteen\" and return only the BusinessTypeID and BusinessType fields\n",
    "query={'BusinessType': 'Restaurant/Cafe/Canteen'}\n",
    "fields={'BusinessTypeID':1, 'BusinessType':1 ,'_id':0}\n",
    "results=establishments.find(query,fields)\n",
    "for i in range(1):\n",
    "    pprint(results[i])\n"
   ]
  },
  {
   "cell_type": "markdown",
   "id": "4e570caf",
   "metadata": {},
   "source": [
    "3. Update the new restaurant with the `BusinessTypeID` you found."
   ]
  },
  {
   "cell_type": "code",
   "execution_count": 13,
   "id": "7f599f3d",
   "metadata": {},
   "outputs": [
    {
     "data": {
      "text/plain": [
       "<pymongo.results.UpdateResult at 0x7fbd5009a820>"
      ]
     },
     "execution_count": 13,
     "metadata": {},
     "output_type": "execute_result"
    }
   ],
   "source": [
    "# Update the new restaurant with the correct BusinessTypeID\n",
    "query={'BusinessName': 'Penang Flavours'}\n",
    "\n",
    "establishments.update_one(query,{'$set':{'BusinessType': 'Restaurant/Cafe/Canteen', 'BusinessTypeID': 1}})"
   ]
  },
  {
   "cell_type": "code",
   "execution_count": 14,
   "id": "a6ad16f7",
   "metadata": {},
   "outputs": [
    {
     "name": "stdout",
     "output_type": "stream",
     "text": [
      "{'AddressLine1': 'Penang Flavours',\n",
      " 'AddressLine2': '146A Plumstead Rd',\n",
      " 'AddressLine3': 'London',\n",
      " 'AddressLine4': '',\n",
      " 'BusinessName': 'Penang Flavours',\n",
      " 'BusinessType': 'Restaurant/Cafe/Canteen',\n",
      " 'BusinessTypeID': 1,\n",
      " 'Distance': 4623.972328074718,\n",
      " 'LocalAuthorityCode': '511',\n",
      " 'LocalAuthorityEmailAddress': 'health@royalgreenwich.gov.uk',\n",
      " 'LocalAuthorityName': 'Greenwich',\n",
      " 'LocalAuthorityWebSite': 'http://www.royalgreenwich.gov.uk',\n",
      " 'NewRatingPending': True,\n",
      " 'Phone': '',\n",
      " 'PostCode': 'SE18 7DY',\n",
      " 'RightToReply': '',\n",
      " 'SchemeType': 'FHRS',\n",
      " '_id': ObjectId('6568077d05af41be3d7d12f8'),\n",
      " 'geocode': {'latitude': '51.49014200', 'longitude': '0.08384000'},\n",
      " 'scores': {'ConfidenceInManagement': '', 'Hygiene': '', 'Structural': ''}}\n"
     ]
    }
   ],
   "source": [
    "# Confirm that the new restaurant was updated\n",
    "find_restaurant=establishments.find({'BusinessName': 'Penang Flavours'})\n",
    "for res in find_restaurant:\n",
    "    pprint(res)"
   ]
  },
  {
   "cell_type": "markdown",
   "id": "67281254",
   "metadata": {},
   "source": [
    "4. The magazine is not interested in any establishments in Dover, so check how many documents contain the Dover Local Authority. Then, remove any establishments within the Dover Local Authority from the database, and check the number of documents to ensure they were deleted."
   ]
  },
  {
   "cell_type": "code",
   "execution_count": 15,
   "id": "e0042763",
   "metadata": {},
   "outputs": [
    {
     "data": {
      "text/plain": [
       "39780"
      ]
     },
     "execution_count": 15,
     "metadata": {},
     "output_type": "execute_result"
    }
   ],
   "source": [
    "# Find how many documents is there in establishments\n",
    "establishments.count_documents({})"
   ]
  },
  {
   "cell_type": "code",
   "execution_count": 16,
   "id": "768474a6",
   "metadata": {},
   "outputs": [
    {
     "data": {
      "text/plain": [
       "994"
      ]
     },
     "execution_count": 16,
     "metadata": {},
     "output_type": "execute_result"
    }
   ],
   "source": [
    "# Find how many documents have LocalAuthorityName as \"Dover\"\n",
    "query={'LocalAuthorityName':'Dover'}\n",
    "establishments.count_documents(query)"
   ]
  },
  {
   "cell_type": "code",
   "execution_count": 17,
   "id": "a11d5f1b",
   "metadata": {},
   "outputs": [
    {
     "data": {
      "text/plain": [
       "<pymongo.results.DeleteResult at 0x7fbd500a4870>"
      ]
     },
     "execution_count": 17,
     "metadata": {},
     "output_type": "execute_result"
    }
   ],
   "source": [
    "# Delete all documents where LocalAuthorityName is \"Dover\"\n",
    "query={'LocalAuthorityName':'Dover'}\n",
    "db.establishments.delete_many(query)"
   ]
  },
  {
   "cell_type": "code",
   "execution_count": 18,
   "id": "2a51aba0",
   "metadata": {},
   "outputs": [
    {
     "data": {
      "text/plain": [
       "0"
      ]
     },
     "execution_count": 18,
     "metadata": {},
     "output_type": "execute_result"
    }
   ],
   "source": [
    "# Check if any remaining documents include Dover\n",
    "with_Dover=db.establishments.find(query)\n",
    "for item in with_Dover:\n",
    "    pprint(item)\n",
    "    \n",
    "query={'LocalAuthorityName':'Dover'}\n",
    "establishments.count_documents(query)"
   ]
  },
  {
   "cell_type": "code",
   "execution_count": 30,
   "id": "8c356f7b",
   "metadata": {},
   "outputs": [
    {
     "data": {
      "text/plain": [
       "{'_id': ObjectId('65680765e712f8aff2ec9718'),\n",
       " 'FHRSID': 1043695,\n",
       " 'ChangesByServerID': 0,\n",
       " 'LocalAuthorityBusinessID': 'PI/000073616',\n",
       " 'BusinessName': 'The Pavilion',\n",
       " 'BusinessType': 'Restaurant/Cafe/Canteen',\n",
       " 'BusinessTypeID': 1,\n",
       " 'AddressLine1': 'East Cliff Pavilion',\n",
       " 'AddressLine2': 'Wear Bay Road',\n",
       " 'AddressLine3': 'Folkestone',\n",
       " 'AddressLine4': 'Kent',\n",
       " 'PostCode': 'CT19 6BL',\n",
       " 'Phone': '',\n",
       " 'RatingValue': 5,\n",
       " 'RatingKey': 'fhrs_5_en-gb',\n",
       " 'RatingDate': '2018-04-04T00:00:00',\n",
       " 'LocalAuthorityCode': '188',\n",
       " 'LocalAuthorityName': 'Folkestone and Hythe',\n",
       " 'LocalAuthorityWebSite': 'http://www.folkestone-hythe.gov.uk',\n",
       " 'LocalAuthorityEmailAddress': 'foodteam@folkestone-hythe.gov.uk',\n",
       " 'scores': {'Hygiene': 5, 'Structural': 5, 'ConfidenceInManagement': 5},\n",
       " 'SchemeType': 'FHRS',\n",
       " 'geocode': {'longitude': 1.195625, 'latitude': 51.083812},\n",
       " 'RightToReply': '',\n",
       " 'Distance': 4591.765489457773,\n",
       " 'NewRatingPending': False,\n",
       " 'meta': {'dataSource': None,\n",
       "  'extractDate': '0001-01-01T00:00:00',\n",
       "  'itemCount': 0,\n",
       "  'returncode': None,\n",
       "  'totalCount': 0,\n",
       "  'totalPages': 0,\n",
       "  'pageSize': 0,\n",
       "  'pageNumber': 0},\n",
       " 'links': [{'rel': 'self',\n",
       "   'href': 'https://api.ratings.food.gov.uk/establishments/1043695'}]}"
      ]
     },
     "execution_count": 30,
     "metadata": {},
     "output_type": "execute_result"
    }
   ],
   "source": [
    "# Check that other documents remain with 'find_one'\n",
    "db.establishments.find_one({})"
   ]
  },
  {
   "cell_type": "markdown",
   "id": "e9f1662d",
   "metadata": {},
   "source": [
    "5. Some of the number values are stored as strings, when they should be stored as numbers."
   ]
  },
  {
   "cell_type": "code",
   "execution_count": 31,
   "id": "ed5853ba",
   "metadata": {},
   "outputs": [
    {
     "name": "stdout",
     "output_type": "stream",
     "text": [
      "_id:<class 'bson.objectid.ObjectId'>\n",
      "FHRSID:<class 'int'>\n",
      "ChangesByServerID:<class 'int'>\n",
      "LocalAuthorityBusinessID:<class 'str'>\n",
      "BusinessName:<class 'str'>\n",
      "BusinessType:<class 'str'>\n",
      "BusinessTypeID:<class 'int'>\n",
      "AddressLine1:<class 'str'>\n",
      "AddressLine2:<class 'str'>\n",
      "AddressLine3:<class 'str'>\n",
      "AddressLine4:<class 'str'>\n",
      "PostCode:<class 'str'>\n",
      "Phone:<class 'str'>\n",
      "RatingValue:<class 'int'>\n",
      "RatingKey:<class 'str'>\n",
      "RatingDate:<class 'str'>\n",
      "LocalAuthorityCode:<class 'str'>\n",
      "LocalAuthorityName:<class 'str'>\n",
      "LocalAuthorityWebSite:<class 'str'>\n",
      "LocalAuthorityEmailAddress:<class 'str'>\n",
      "scores:<class 'dict'>\n",
      "SchemeType:<class 'str'>\n",
      "geocode:<class 'dict'>\n",
      "RightToReply:<class 'str'>\n",
      "Distance:<class 'float'>\n",
      "NewRatingPending:<class 'bool'>\n",
      "meta:<class 'dict'>\n",
      "links:<class 'list'>\n"
     ]
    }
   ],
   "source": [
    "# Checking the data types of values in one of documents(which is a dictionary type)\n",
    "example_document=db.establishments.find_one({})\n",
    "if example_document:\n",
    "    for field_name , field_value in example_document.items():\n",
    "        print(f\"{field_name}:{type(field_value)}\")\n",
    "else:\n",
    "    print(\"No document found\")"
   ]
  },
  {
   "cell_type": "code",
   "execution_count": 32,
   "id": "982d8588",
   "metadata": {},
   "outputs": [],
   "source": [
    "# Let's define a function that check the data type of values in document and \n",
    "# if it is a nested document it explores that nested document recursively\n",
    "def print_field_types(document, parent_key=''):\n",
    "    # Loop over each key-value pair in the document\n",
    "    for field_name, field_value in document.items():\n",
    "        # Construct the full field path\n",
    "        # If there is a parent key, append the current field name to it\n",
    "        # Otherwise, just use the field name\n",
    "        full_field_name = f\"{parent_key}.{field_name}\" if parent_key else field_name\n",
    "\n",
    "        # Check if the current value is a dictionary (nested document)\n",
    "        if isinstance(field_value, dict):\n",
    "            # If it's a dictionary, print its path and mention it's a Dictionary\n",
    "            print(f\"Field: {full_field_name}, Data Type: Dictionary\")\n",
    "            # Recursively call the same function for the nested dictionary\n",
    "            # Pass the full field name as the new parent key\n",
    "            print_field_types(field_value, full_field_name)\n",
    "        else:\n",
    "            # If it's not a dictionary, print the field name and its data type\n",
    "            print(f\"Field: {full_field_name}, Data Type: {type(field_value)}\")\n"
   ]
  },
  {
   "cell_type": "code",
   "execution_count": 33,
   "id": "292536f3",
   "metadata": {},
   "outputs": [
    {
     "name": "stdout",
     "output_type": "stream",
     "text": [
      "Field: _id, Data Type: <class 'bson.objectid.ObjectId'>\n",
      "Field: FHRSID, Data Type: <class 'int'>\n",
      "Field: ChangesByServerID, Data Type: <class 'int'>\n",
      "Field: LocalAuthorityBusinessID, Data Type: <class 'str'>\n",
      "Field: BusinessName, Data Type: <class 'str'>\n",
      "Field: BusinessType, Data Type: <class 'str'>\n",
      "Field: BusinessTypeID, Data Type: <class 'int'>\n",
      "Field: AddressLine1, Data Type: <class 'str'>\n",
      "Field: AddressLine2, Data Type: <class 'str'>\n",
      "Field: AddressLine3, Data Type: <class 'str'>\n",
      "Field: AddressLine4, Data Type: <class 'str'>\n",
      "Field: PostCode, Data Type: <class 'str'>\n",
      "Field: Phone, Data Type: <class 'str'>\n",
      "Field: RatingValue, Data Type: <class 'int'>\n",
      "Field: RatingKey, Data Type: <class 'str'>\n",
      "Field: RatingDate, Data Type: <class 'str'>\n",
      "Field: LocalAuthorityCode, Data Type: <class 'str'>\n",
      "Field: LocalAuthorityName, Data Type: <class 'str'>\n",
      "Field: LocalAuthorityWebSite, Data Type: <class 'str'>\n",
      "Field: LocalAuthorityEmailAddress, Data Type: <class 'str'>\n",
      "Field: scores, Data Type: Dictionary\n",
      "Field: scores.Hygiene, Data Type: <class 'int'>\n",
      "Field: scores.Structural, Data Type: <class 'int'>\n",
      "Field: scores.ConfidenceInManagement, Data Type: <class 'int'>\n",
      "Field: SchemeType, Data Type: <class 'str'>\n",
      "Field: geocode, Data Type: Dictionary\n",
      "Field: geocode.longitude, Data Type: <class 'float'>\n",
      "Field: geocode.latitude, Data Type: <class 'float'>\n",
      "Field: RightToReply, Data Type: <class 'str'>\n",
      "Field: Distance, Data Type: <class 'float'>\n",
      "Field: NewRatingPending, Data Type: <class 'bool'>\n",
      "Field: meta, Data Type: Dictionary\n",
      "Field: meta.dataSource, Data Type: <class 'NoneType'>\n",
      "Field: meta.extractDate, Data Type: <class 'str'>\n",
      "Field: meta.itemCount, Data Type: <class 'int'>\n",
      "Field: meta.returncode, Data Type: <class 'NoneType'>\n",
      "Field: meta.totalCount, Data Type: <class 'int'>\n",
      "Field: meta.totalPages, Data Type: <class 'int'>\n",
      "Field: meta.pageSize, Data Type: <class 'int'>\n",
      "Field: meta.pageNumber, Data Type: <class 'int'>\n",
      "Field: links, Data Type: <class 'list'>\n"
     ]
    }
   ],
   "source": [
    "example_document=db.establishments.find_one({})\n",
    "if example_document:\n",
    "    print_field_types(example_document)\n",
    "else:\n",
    "    print(\"No document found\")"
   ]
  },
  {
   "cell_type": "markdown",
   "id": "c46df2df",
   "metadata": {},
   "source": [
    "Use `update_many` to convert `latitude` and `longitude` to decimal numbers."
   ]
  },
  {
   "cell_type": "code",
   "execution_count": 34,
   "id": "fd4112ce",
   "metadata": {},
   "outputs": [
    {
     "data": {
      "text/plain": [
       "<pymongo.results.UpdateResult at 0x7fbd607ef4b0>"
      ]
     },
     "execution_count": 34,
     "metadata": {},
     "output_type": "execute_result"
    }
   ],
   "source": [
    "# Change the data type from String to Decimal for longitude and latitude\n",
    "establishments.update_many({},[{'$set':{'geocode.longitude':{'$toDouble':'$geocode.longitude'},'geocode.latitude': {'$toDouble': '$geocode.latitude'}}}])"
   ]
  },
  {
   "cell_type": "markdown",
   "id": "142e319c",
   "metadata": {},
   "source": [
    "Use `update_many` to convert `RatingValue` to integer numbers."
   ]
  },
  {
   "cell_type": "code",
   "execution_count": 35,
   "id": "e5a5418e",
   "metadata": {},
   "outputs": [
    {
     "data": {
      "text/plain": [
       "{0, 1, 2, 3, 4, 5, None}"
      ]
     },
     "execution_count": 35,
     "metadata": {},
     "output_type": "execute_result"
    }
   ],
   "source": [
    "# I want to find the unique values in the field of RatingValue\n",
    "fields={'_id':0,'RatingValue':1}\n",
    "rating_values=establishments.find({},fields)\n",
    "list_rating_values=[rating_value['RatingValue']for rating_value in rating_values if 'RatingValue' in rating_value]\n",
    "unique_rating_values=set(list_rating_values)\n",
    "unique_rating_values"
   ]
  },
  {
   "cell_type": "code",
   "execution_count": 36,
   "id": "04430a5b",
   "metadata": {},
   "outputs": [
    {
     "data": {
      "text/plain": [
       "<pymongo.results.UpdateResult at 0x7fbd607b6370>"
      ]
     },
     "execution_count": 36,
     "metadata": {},
     "output_type": "execute_result"
    }
   ],
   "source": [
    "# Set non 1-5 Rating Values to Null\n",
    "non_ratings = [\"AwaitingInspection\", \"Awaiting Inspection\", \"AwaitingPublication\", \"Pass\", \"Exempt\"]\n",
    "establishments.update_many({\"RatingValue\": {\"$in\": non_ratings}}, [ {'$set':{ \"RatingValue\" : None}} ])"
   ]
  },
  {
   "cell_type": "code",
   "execution_count": 37,
   "id": "669f6221",
   "metadata": {},
   "outputs": [
    {
     "data": {
      "text/plain": [
       "{0, 1, 2, 3, 4, 5, None}"
      ]
     },
     "execution_count": 37,
     "metadata": {},
     "output_type": "execute_result"
    }
   ],
   "source": [
    "# I want to find the unique values in the field of RatingValue\n",
    "fields={'_id':0,'RatingValue':1}\n",
    "rating_values=establishments.find({},fields)\n",
    "list_rating_values=[rating_value['RatingValue']for rating_value in rating_values if 'RatingValue' in rating_value]\n",
    "unique_rating_values=set(list_rating_values)\n",
    "unique_rating_values"
   ]
  },
  {
   "cell_type": "code",
   "execution_count": 38,
   "id": "92524ccc",
   "metadata": {},
   "outputs": [
    {
     "data": {
      "text/plain": [
       "<pymongo.results.UpdateResult at 0x7fbd60790870>"
      ]
     },
     "execution_count": 38,
     "metadata": {},
     "output_type": "execute_result"
    }
   ],
   "source": [
    "# Change the data type from String to Integer for RatingValue\n",
    "establishments.update_many({},[{'$set':{'RatingValue':{\n",
    "                                        '$cond':{\n",
    "                                                 'if':{'$eq':['$RatingValue', None]},\n",
    "                                                 'then':None,\n",
    "                                                 'else':{'$toInt':'$RatingValue'}\n",
    "                                                }}}}])"
   ]
  },
  {
   "cell_type": "code",
   "execution_count": 39,
   "id": "35e761ba",
   "metadata": {},
   "outputs": [
    {
     "data": {
      "text/plain": [
       "{0, 1, 2, 3, 4, 5, None}"
      ]
     },
     "execution_count": 39,
     "metadata": {},
     "output_type": "execute_result"
    }
   ],
   "source": [
    "fields={'_id':0,'RatingValue':1}\n",
    "rating_values=establishments.find({},fields)\n",
    "list_rating_values=[rating_value['RatingValue']for rating_value in rating_values if 'RatingValue' in rating_value]\n",
    "unique_rating_values=set(list_rating_values)\n",
    "unique_rating_values"
   ]
  },
  {
   "cell_type": "code",
   "execution_count": 41,
   "id": "0deacaf9",
   "metadata": {},
   "outputs": [
    {
     "name": "stdout",
     "output_type": "stream",
     "text": [
      "Field: _id, Data Type: <class 'bson.objectid.ObjectId'>\n",
      "Field: FHRSID, Data Type: <class 'int'>\n",
      "Field: ChangesByServerID, Data Type: <class 'int'>\n",
      "Field: LocalAuthorityBusinessID, Data Type: <class 'str'>\n",
      "Field: BusinessName, Data Type: <class 'str'>\n",
      "Field: BusinessType, Data Type: <class 'str'>\n",
      "Field: BusinessTypeID, Data Type: <class 'int'>\n",
      "Field: AddressLine1, Data Type: <class 'str'>\n",
      "Field: AddressLine2, Data Type: <class 'str'>\n",
      "Field: AddressLine3, Data Type: <class 'str'>\n",
      "Field: AddressLine4, Data Type: <class 'str'>\n",
      "Field: PostCode, Data Type: <class 'str'>\n",
      "Field: Phone, Data Type: <class 'str'>\n",
      "Field: RatingValue, Data Type: <class 'int'>\n",
      "Field: RatingKey, Data Type: <class 'str'>\n",
      "Field: RatingDate, Data Type: <class 'str'>\n",
      "Field: LocalAuthorityCode, Data Type: <class 'str'>\n",
      "Field: LocalAuthorityName, Data Type: <class 'str'>\n",
      "Field: LocalAuthorityWebSite, Data Type: <class 'str'>\n",
      "Field: LocalAuthorityEmailAddress, Data Type: <class 'str'>\n",
      "Field: scores, Data Type: Dictionary\n",
      "Field: scores.Hygiene, Data Type: <class 'int'>\n",
      "Field: scores.Structural, Data Type: <class 'int'>\n",
      "Field: scores.ConfidenceInManagement, Data Type: <class 'int'>\n",
      "Field: SchemeType, Data Type: <class 'str'>\n",
      "Field: geocode, Data Type: Dictionary\n",
      "Field: geocode.longitude, Data Type: <class 'float'>\n",
      "Field: geocode.latitude, Data Type: <class 'float'>\n",
      "Field: RightToReply, Data Type: <class 'str'>\n",
      "Field: Distance, Data Type: <class 'float'>\n",
      "Field: NewRatingPending, Data Type: <class 'bool'>\n",
      "Field: meta, Data Type: Dictionary\n",
      "Field: meta.dataSource, Data Type: <class 'NoneType'>\n",
      "Field: meta.extractDate, Data Type: <class 'str'>\n",
      "Field: meta.itemCount, Data Type: <class 'int'>\n",
      "Field: meta.returncode, Data Type: <class 'NoneType'>\n",
      "Field: meta.totalCount, Data Type: <class 'int'>\n",
      "Field: meta.totalPages, Data Type: <class 'int'>\n",
      "Field: meta.pageSize, Data Type: <class 'int'>\n",
      "Field: meta.pageNumber, Data Type: <class 'int'>\n",
      "Field: links, Data Type: <class 'list'>\n"
     ]
    }
   ],
   "source": [
    "# Check that the coordinates and rating value are now numbers\n",
    "example_document=db.establishments.find_one({})\n",
    "if example_document:\n",
    "    print_field_types(example_document)\n",
    "else:\n",
    "    print(\"No document found\")"
   ]
  },
  {
   "cell_type": "code",
   "execution_count": null,
   "id": "0cc1de73",
   "metadata": {},
   "outputs": [],
   "source": []
  }
 ],
 "metadata": {
  "kernelspec": {
   "display_name": "Python 3 (ipykernel)",
   "language": "python",
   "name": "python3"
  },
  "language_info": {
   "codemirror_mode": {
    "name": "ipython",
    "version": 3
   },
   "file_extension": ".py",
   "mimetype": "text/x-python",
   "name": "python",
   "nbconvert_exporter": "python",
   "pygments_lexer": "ipython3",
   "version": "3.7.13"
  }
 },
 "nbformat": 4,
 "nbformat_minor": 5
}
